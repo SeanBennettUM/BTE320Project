{
  "nbformat": 4,
  "nbformat_minor": 0,
  "metadata": {
    "colab": {
      "provenance": [],
      "authorship_tag": "ABX9TyNyFRa5Hw8ASbeLtL7qVpRG",
      "include_colab_link": true
    },
    "kernelspec": {
      "name": "python3",
      "display_name": "Python 3"
    },
    "language_info": {
      "name": "python"
    }
  },
  "cells": [
    {
      "cell_type": "markdown",
      "metadata": {
        "id": "view-in-github",
        "colab_type": "text"
      },
      "source": [
        "<a href=\"https://colab.research.google.com/github/SeanBennettUM/BTE320Project/blob/main/Date_String.ipynb\" target=\"_parent\"><img src=\"https://colab.research.google.com/assets/colab-badge.svg\" alt=\"Open In Colab\"/></a>"
      ]
    },
    {
      "cell_type": "code",
      "execution_count": 8,
      "metadata": {
        "colab": {
          "base_uri": "https://localhost:8080/"
        },
        "id": "qAtCOSW7NOat",
        "outputId": "ce26259b-70af-4860-d43b-b91136578271"
      },
      "outputs": [
        {
          "output_type": "stream",
          "name": "stdout",
          "text": [
            "Enter todays date: 02/20/2002\n",
            "The day is: 02 The month is: 20 The year is:  2002\n"
          ]
        }
      ],
      "source": [
        "\n",
        "date = input('Enter todays date(MM/DD/YYYY) ')\n",
        "month = date[0:2]\n",
        "day = date[3:5]\n",
        "year = date[6:10]\n",
        "print(\"The day is:\", day, \"The month is:\", month,\"The year is:\",year)"
      ]
    }
  ]
}