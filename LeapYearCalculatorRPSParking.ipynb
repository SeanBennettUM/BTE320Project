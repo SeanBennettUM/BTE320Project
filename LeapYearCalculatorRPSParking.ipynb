{
  "nbformat": 4,
  "nbformat_minor": 0,
  "metadata": {
    "colab": {
      "provenance": [],
      "authorship_tag": "ABX9TyM30jL7cQA/LAQS00l9G95/",
      "include_colab_link": true
    },
    "kernelspec": {
      "name": "python3",
      "display_name": "Python 3"
    },
    "language_info": {
      "name": "python"
    }
  },
  "cells": [
    {
      "cell_type": "markdown",
      "metadata": {
        "id": "view-in-github",
        "colab_type": "text"
      },
      "source": [
        "<a href=\"https://colab.research.google.com/github/SeanBennettUM/BTE320Project/blob/main/LeapYearCalculatorRPSParking.ipynb\" target=\"_parent\"><img src=\"https://colab.research.google.com/assets/colab-badge.svg\" alt=\"Open In Colab\"/></a>"
      ]
    },
    {
      "cell_type": "code",
      "execution_count": 1,
      "metadata": {
        "colab": {
          "base_uri": "https://localhost:8080/"
        },
        "id": "NLWrobwiJihI",
        "outputId": "d76b9e08-a9db-4a66-91eb-e4f58b9a3523"
      },
      "outputs": [
        {
          "output_type": "stream",
          "name": "stdout",
          "text": [
            "Enter a year: 2000\n",
            "2000 is a leap year!\n"
          ]
        }
      ],
      "source": [
        "year = int(input(\"Enter a year: \"))\n",
        "\n",
        "if (year % 4 == 0 and year % 100 != 0) or (year % 400 == 0):\n",
        "    print(f\"{year} is a leap year!\")\n",
        "else:\n",
        "    print(f\"{year} is not a leap year.\")\n"
      ]
    },
    {
      "cell_type": "code",
      "source": [
        "import random\n",
        "\n",
        "user_choice = input(\"Enter your choice (rock, paper, or scissors): \")\n",
        "computer_choice = random.choice([\"rock\", \"paper\", \"scissors\"])\n",
        "\n",
        "print(f\"You chose: {user_choice}\")\n",
        "print(f\"Computer chose: {computer_choice}\")\n",
        "\n",
        "if user_choice == computer_choice:\n",
        "    print(\"It's a tie!\")\n",
        "elif (\n",
        "    (user_choice == \"rock\" and computer_choice == \"scissors\") or\n",
        "    (user_choice == \"paper\" and computer_choice == \"rock\") or\n",
        "    (user_choice == \"scissors\" and computer_choice == \"paper\")\n",
        "):\n",
        "    print(\"You win!\")\n",
        "else:\n",
        "    print(\"Computer wins!\")"
      ],
      "metadata": {
        "id": "mi2WdZURJvsL"
      },
      "execution_count": null,
      "outputs": []
    },
    {
      "cell_type": "code",
      "source": [
        "while True:\n",
        "    num1 = input(\"Enter first number: \")\n",
        "    if num1.lower() == 'break':\n",
        "        break\n",
        "\n",
        "    operator = input(\"Enter operator (+, -, *, **, /, //, %) or 'break' to exit: \")\n",
        "    if operator.lower() == 'break':\n",
        "        break\n",
        "\n",
        "    num2 = input(\"Enter second number: \")\n",
        "    if num2.lower() == 'break':\n",
        "        break\n",
        "\n",
        "    try:\n",
        "        num1 = float(num1)\n",
        "        num2 = float(num2)\n",
        "        if operator == '+':\n",
        "            print(\"Result:\", num1 + num2)\n",
        "        elif operator == '-':\n",
        "            print(\"Result:\", num1 - num2)\n",
        "        elif operator == '*':\n",
        "            print(\"Result:\", num1 * num2)\n",
        "        elif operator == '**':\n",
        "            print(\"Result:\", num1 ** num2)\n",
        "        elif operator == '/':\n",
        "            if num2 != 0:\n",
        "                print(\"Result:\", num1 / num2)\n",
        "            else:\n",
        "                print(\"Error: Division by zero\")\n",
        "        elif operator == '//':\n",
        "            if num2 != 0:\n",
        "                print(\"Result:\", num1 // num2)\n",
        "            else:\n",
        "                print(\"Error: Division by zero\")\n",
        "        elif operator == '%':\n",
        "            if num2 != 0:\n",
        "                print(\"Result:\", num1 % num2)\n",
        "            else:\n",
        "                print(\"Error: Modulus by zero\")\n",
        "        else:\n",
        "            print(\"Invalid operator.\")\n",
        "    except ValueError:\n",
        "        print(\"Invalid input. Please enter numerical values.\")"
      ],
      "metadata": {
        "id": "xWxwzNc6Jv9H"
      },
      "execution_count": null,
      "outputs": []
    },
    {
      "cell_type": "code",
      "source": [],
      "metadata": {
        "id": "Z83MiD8sJwEt"
      },
      "execution_count": null,
      "outputs": []
    }
  ]
}